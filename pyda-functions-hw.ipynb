{
 "cells": [
  {
   "cell_type": "markdown",
   "metadata": {},
   "source": [
    "## Задание 1"
   ]
  },
  {
   "cell_type": "markdown",
   "metadata": {},
   "source": [
    "Дан список вида:"
   ]
  },
  {
   "cell_type": "code",
   "execution_count": 1,
   "metadata": {},
   "outputs": [],
   "source": [
    "data = [\n",
    "    [13, 25, 23, 34],\n",
    "    [45, 32, 44, 47],\n",
    "    [12, 33, 23, 95],\n",
    "    [13, 53, 34, 35]\n",
    "]"
   ]
  },
  {
   "cell_type": "code",
   "execution_count": 6,
   "metadata": {},
   "outputs": [
    {
     "data": {
      "text/plain": [
       "103"
      ]
     },
     "execution_count": 6,
     "metadata": {},
     "output_type": "execute_result"
    }
   ],
   "source": [
    "def sum_elemets():\n",
    "    i = 0\n",
    "    sum_e = 0\n",
    "    for element in data:\n",
    "        sum_e += element[i]\n",
    "        i += 1\n",
    "    return sum_e\n",
    "        \n",
    "sum_elemets()"
   ]
  },
  {
   "cell_type": "markdown",
   "metadata": {},
   "source": [
    "Напишите функцию, которая возвращает сумму элементов на диагонали. Т. е. 13+32+23+35.  \n",
    "Список может быть любой длины, но всегда является \"квадратным\" (количество элементов во вложенных списках равно их количеству)."
   ]
  },
  {
   "cell_type": "markdown",
   "metadata": {},
   "source": [
    "## Задание 2"
   ]
  },
  {
   "cell_type": "markdown",
   "metadata": {},
   "source": [
    "Напишите функцию, возвращающую сумму первых n чисел Фибоначчи (для этого вам может понадобится ознакомиться с рекурсией)."
   ]
  },
  {
   "cell_type": "code",
   "execution_count": 1,
   "metadata": {},
   "outputs": [],
   "source": [
    "def sum_fb(n):\n",
    "    fib_1 = 1\n",
    "    fib_2 = 1\n",
    "    count = 0\n",
    "    while count < n-2:\n",
    "        sum_f = fib_1 + fib_2\n",
    "        fib_1 = fib_2\n",
    "        fib_2 = sum_f\n",
    "        count += 1\n",
    "    return fib_2"
   ]
  },
  {
   "cell_type": "code",
   "execution_count": 2,
   "metadata": {},
   "outputs": [
    {
     "name": "stdout",
     "output_type": "stream",
     "text": [
      "Введите номер элемента из последовательности Фибоначчи: 3\n"
     ]
    },
    {
     "data": {
      "text/plain": [
       "2"
      ]
     },
     "execution_count": 2,
     "metadata": {},
     "output_type": "execute_result"
    }
   ],
   "source": [
    "sum_fb(int(input('Введите номер элемента из последовательности Фибоначчи: ')))"
   ]
  },
  {
   "cell_type": "markdown",
   "metadata": {},
   "source": [
    "## Задание 3\n"
   ]
  },
  {
   "cell_type": "markdown",
   "metadata": {},
   "source": [
    "Напишите функцию, преобразующую произвольный список вида ['2018-01-01', 'yandex', 'cpc', 100] (он может быть любой длины) в словарь {'2018-01-01': {'yandex': {'cpc': 100}}}"
   ]
  },
  {
   "cell_type": "code",
   "execution_count": 47,
   "metadata": {},
   "outputs": [],
   "source": [
    "data = ['2018-01-01', 'yandex', 'cpc', 100]"
   ]
  },
  {
   "cell_type": "code",
   "execution_count": 205,
   "metadata": {},
   "outputs": [],
   "source": [
    "def list_to_dict(data):\n",
    "    dict_final_1 = {}\n",
    "    list_for_dict = data[::-1]\n",
    "    elements = []\n",
    "    index = 1\n",
    "    while index < len(data):\n",
    "        dict_final = {}\n",
    "        if index == 1:\n",
    "            dict_final[list_for_dict[1]] = list_for_dict[0]\n",
    "        else:\n",
    "            dict_final[list_for_dict[index]] = dict_final_1.copy()\n",
    "        dict_final_1 = dict_final.copy()\n",
    "        index += 1\n",
    "    return dict_final\n",
    "        \n"
   ]
  },
  {
   "cell_type": "code",
   "execution_count": 206,
   "metadata": {},
   "outputs": [
    {
     "data": {
      "text/plain": [
       "{'2018-01-01': {'yandex': {'cpc': 100}}}"
      ]
     },
     "execution_count": 206,
     "metadata": {},
     "output_type": "execute_result"
    }
   ],
   "source": [
    "list_to_dict(data)"
   ]
  },
  {
   "cell_type": "markdown",
   "metadata": {},
   "source": [
    "## Задание 4"
   ]
  },
  {
   "cell_type": "markdown",
   "metadata": {},
   "source": [
    "Вы работаете секретарем и вам постоянно приходят различные документы. Вы должны быть очень внимательны, чтобы не потерять ни один документ. Каталог документов хранится в следующем виде:"
   ]
  },
  {
   "cell_type": "code",
   "execution_count": 1,
   "metadata": {},
   "outputs": [],
   "source": [
    "documents = [\n",
    "    {'type': 'passport', 'number': '2207 876234', 'name': 'Василий Гупкин'},\n",
    "    {'type': 'invoice', 'number': '11-2', 'name': 'Геннадий Покемонов'},\n",
    "    {'type': 'insurance', 'number': '10006', 'name': 'Аристарх Павлов'}\n",
    "]"
   ]
  },
  {
   "cell_type": "markdown",
   "metadata": {},
   "source": [
    "Перечень полок, на которых находятся документы хранится в следующем виде:"
   ]
  },
  {
   "cell_type": "code",
   "execution_count": 2,
   "metadata": {},
   "outputs": [],
   "source": [
    "directories = {\n",
    "    '1': ['2207 876234', '11-2', '5455 028765'],\n",
    "    '2': ['10006', '5400 028765', '5455 002299'],\n",
    "    '3': []\n",
    "}"
   ]
  },
  {
   "cell_type": "code",
   "execution_count": 8,
   "metadata": {},
   "outputs": [],
   "source": [
    "def list_for_check_num ():\n",
    "    documents_check = []\n",
    "    for document_c in documents:\n",
    "        document_ch = list(document_c.values())\n",
    "        for document in document_ch:\n",
    "            documents_check.append(document)\n",
    "    return documents_check\n",
    "\n",
    "def command (documents = documents, directories = directories):\n",
    "    command = input('Введите команду: ')\n",
    "    if command == 'p' or command == 'people':\n",
    "        num_id_p = str(input('Введите номер документа: '))\n",
    "        for dicts in documents:\n",
    "            if num_id_p in dicts['number']:\n",
    "                return(dicts['name'])\n",
    "    if command == 's' or command == 'shelf':\n",
    "        num_id_s = str(input('Введите номер документа: '))\n",
    "        if num_id_s in list_for_check_num():\n",
    "            for shelves in list(directories.items()):\n",
    "                if num_id_s in shelves[1]:\n",
    "                    return(shelves[0])\n",
    "        else:\n",
    "            return('Такого документа не существует!')\n",
    "    if command == 'l' or command == 'list':\n",
    "        for num_l in documents:\n",
    "            num_list = list(num_l.items())\n",
    "            print (f'{num_list[0][1]}\"{num_list[1][1]}\"\"{num_list[2][1]}\"')\n",
    "    if command == 'as' or command == 'add shelf':\n",
    "        num_shelf = input('Введите номер новой полки: ')\n",
    "        directories[num_shelf] = []\n",
    "        return directories\n",
    "    if command == 'd' or command == 'delete':\n",
    "        num_d = input('Введите номер документа: ')\n",
    "        if num_d in list_for_check_num ():\n",
    "            for document in documents:\n",
    "                document1 = list(document.items())\n",
    "                if num_d == document1[1][1]:\n",
    "                    documents.remove(document)\n",
    "                    print(documents)\n",
    "            for shelf in directories:\n",
    "                if num_d in directories[shelf]:\n",
    "                    directories[shelf].remove(num_d)\n",
    "                    print(directories)\n",
    "        else:\n",
    "            return ('Такого документа не существует!')\n",
    "    if command == 'm' or command == 'move':\n",
    "        num_m = input('Введите номер документа: ')\n",
    "        shelf = input('Введите целевую полку: ')\n",
    "        if shelf in list(directories.keys()):\n",
    "            if num_m in list_for_check_num():\n",
    "                for shelves in directories:\n",
    "                    if num_m in directories[shelves]:\n",
    "                        directories[shelves].remove(num_m)\n",
    "                        directories[shelf].append(num_m)\n",
    "                print(directories)\n",
    "            else:\n",
    "                print ('Такого документа не существует!')\n",
    "        else:\n",
    "            print ('Такой полки не существует!')\n",
    "    if command == 'a' or command == 'add':\n",
    "        num_a = input('Введите номер документа: ')\n",
    "        num_type = input('Введите тип документа: ')\n",
    "        name = input('Введите имя владельца: ')\n",
    "        shelf = input('Введите номер полки: ')\n",
    "        pre_dict = {}\n",
    "        pre_dict['type'] = num_type\n",
    "        pre_dict['number'] = num_a\n",
    "        pre_dict['name'] = name\n",
    "        documents.append(pre_dict)\n",
    "        print(documents)\n",
    "        if shelf in list(directories.keys()):\n",
    "            directories[shelf].append(num_a)\n",
    "            print(directories)\n",
    "        else:\n",
    "            directories[shelf] = [num_a]\n",
    "            print(directories)\n",
    "    return 'Функция отработала'"
   ]
  },
  {
   "cell_type": "code",
   "execution_count": 9,
   "metadata": {},
   "outputs": [
    {
     "name": "stdout",
     "output_type": "stream",
     "text": [
      "Введите команду: d\n",
      "Введите номер документа: 11-3\n",
      "[{'type': 'passport', 'number': '2207 876234', 'name': 'Василий Гупкин'}, {'type': 'invoice', 'number': '11-2', 'name': 'Геннадий Покемонов'}, {'type': 'insurance', 'number': '10006', 'name': 'Аристарх Павлов'}]\n",
      "{'1': ['2207 876234', '11-2', '5455 028765'], '2': ['10006', '5400 028765', '5455 002299'], '3': []}\n",
      "Функция отработала\n"
     ]
    }
   ],
   "source": [
    "print(command())"
   ]
  },
  {
   "cell_type": "markdown",
   "metadata": {},
   "source": [
    "Необходимо реализовать пользовательские команды (внимание! это не название функций, которые должны быть выразительными, а команды, которые вводит пользователь, чтобы получить необходимый результат):\n",
    "  \n",
    "- p – people – команда, которая спросит номер документа и выведет имя человека, которому он принадлежит;  \n",
    "- s – shelf – команда, которая спросит номер документа и выведет номер полки, на которой он находится  \n",
    "Правильно обработайте ситуацию, когда пользователь будет вводить несуществующий документ.\n",
    "- l – list – команда, которая выведет список всех документов в формате   \n",
    "**passport \"2207 876234\" \"Василий Гупкин\"**  \n",
    "- as – add shelf – команда, которая спросит номер новой полки и добавит ее в перечень\n",
    "- d – delete – команда, которая спросит номер документа и удалит его из каталога и из перечня полок. Предусмотрите сценарий, когда пользователь вводит несуществующий документ;  \n",
    "- m – move – команда, которая спросит номер документа и целевую полку и переместит его с текущей полки на целевую. Корректно обработайте кейсы, когда пользователь пытается переместить несуществующий документ или переместить документ на несуществующую полку;  \n",
    "- a – add – команда, которая добавит новый документ в каталог и в перечень полок, спросив его номер, тип, имя владельца и номер полки, на котором он будет храниться."
   ]
  }
 ],
 "metadata": {
  "kernelspec": {
   "display_name": "Python 3",
   "language": "python",
   "name": "python3"
  },
  "language_info": {
   "codemirror_mode": {
    "name": "ipython",
    "version": 3
   },
   "file_extension": ".py",
   "mimetype": "text/x-python",
   "name": "python",
   "nbconvert_exporter": "python",
   "pygments_lexer": "ipython3",
   "version": "3.7.1"
  }
 },
 "nbformat": 4,
 "nbformat_minor": 2
}
