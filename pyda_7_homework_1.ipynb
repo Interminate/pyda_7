{
 "cells": [
  {
   "cell_type": "code",
   "execution_count": 2,
   "metadata": {},
   "outputs": [
    {
     "data": {
      "text/plain": [
       "True"
      ]
     },
     "execution_count": 2,
     "metadata": {},
     "output_type": "execute_result"
    }
   ],
   "source": [
    "#Задание 1.\n",
    "\n",
    "long_phrase = 'Насколько проще было бы писать программы, если бы не заказчики'\n",
    "short_phrase = '640Кб должно хватить для любых задач. Билл Гейтс (по легенде)'\n",
    "\n",
    "len(long_phrase) > len(short_phrase)"
   ]
  },
  {
   "cell_type": "code",
   "execution_count": 7,
   "metadata": {},
   "outputs": [
    {
     "name": "stdout",
     "output_type": "stream",
     "text": [
      "Введите объем файла в байтах: 224059719.68\n",
      "Объем файла равен  213.68 Mb\n"
     ]
    }
   ],
   "source": [
    "#Задание 2.\n",
    "\n",
    "seize = float(input('Введите объем файла в байтах: '))\n",
    "print('Объем файла равен ', seize / 1048576, 'Mb')"
   ]
  },
  {
   "cell_type": "code",
   "execution_count": 10,
   "metadata": {},
   "outputs": [
    {
     "name": "stdout",
     "output_type": "stream",
     "text": [
      "Введите месяц: Ноябрь\n",
      "Введите день: 25\n",
      "Стрелец\n"
     ]
    }
   ],
   "source": [
    "#Задание 3.\n",
    "\n",
    "month = input('Введите месяц: ')\n",
    "day = int(input('Введите день: '))\n",
    "\n",
    "if month == 'Январь':\n",
    "    if day > 20:\n",
    "        print ('Водолей')\n",
    "    else:\n",
    "        print('Козерог')\n",
    "elif month == 'Февраль':\n",
    "    if day > 18:\n",
    "        print ('Рыбы')\n",
    "    else:\n",
    "        print('Водолей')\n",
    "elif month == 'Март':\n",
    "    if day > 20:\n",
    "        print('Овен')\n",
    "    else:\n",
    "        print('Рыбы')\n",
    "elif month == 'Апрель':\n",
    "    if day > 20:\n",
    "        print('Телец')\n",
    "    else:\n",
    "        print('Овен')\n",
    "elif month == 'Май':\n",
    "    if day > 21:\n",
    "        print('Близнецы')\n",
    "    else:\n",
    "        print('Телец')\n",
    "elif month == 'Июнь':\n",
    "    if day > 21:\n",
    "        print('Рак')\n",
    "    else:\n",
    "        print('Близнецы')\n",
    "elif month == 'Июль':\n",
    "    if day > 22:\n",
    "        print('Лев')\n",
    "    else:\n",
    "        print('Рак')\n",
    "elif month == 'Август':\n",
    "    if day > 23:\n",
    "        print('Дева')\n",
    "    else:\n",
    "        print('Лев')\n",
    "elif month == 'Сентябрь':\n",
    "    if day > 23:\n",
    "        print('Весы')\n",
    "    else:\n",
    "        print('Дева')\n",
    "elif month == 'Октябрь':\n",
    "    if day > 23:\n",
    "        print('Скорпион')\n",
    "    else:\n",
    "        print('Весы')\n",
    "elif month == 'Ноябрь':\n",
    "    if day > 22:\n",
    "        print('Стрелец')\n",
    "    else:\n",
    "        print('Скорпион')\n",
    "elif month == 'Декабрь':\n",
    "    if day > 21:\n",
    "        print('Козерог')\n",
    "    else:\n",
    "        print('Стрелец')"
   ]
  },
  {
   "cell_type": "code",
   "execution_count": 12,
   "metadata": {},
   "outputs": [
    {
     "name": "stdout",
     "output_type": "stream",
     "text": [
      "Введите заработную плату в месяц: 100000\n",
      "Введите сколько процентов уходит на ипотеку: 30\n",
      "Введите сколько процентов уходит на жизнь: 50\n",
      "Введите количество премий за год: 2\n",
      "На ипотеку было потрачено:  360000.0 рублей\n",
      "Было накоплено:  340000.0 рублей\n"
     ]
    }
   ],
   "source": [
    "#Задание 4.\n",
    "#Нужно разработать приложение для финансового планирования.\n",
    "#Приложение учитывает сколько уходит на ипотеку, “на жизнь” и сколько нужно отложить на пенсию.\n",
    "#Пользователь вводит заработанную плату в месяц.\n",
    "#Сколько процентов от зп уходит на ипотеку.\n",
    "#Сколько процентов от зп уходит “на жизнь”.\n",
    "#Сколько раз приходит премия в год.\n",
    "#Остальная часть заработанной платы откладывается на пенсию.\n",
    "#Также пользователю приходит премия в размере зарплаты, от которой половина уходит на отпуск, а вторая половина откладывается.\n",
    "#Программа должна учитывать сколько премий было в год.\n",
    "#Нужно вывести сколько денег тратит пользователь на ипотеку и сколько он накопит за год.\n",
    "#Пример:\n",
    "\n",
    "#Введите заработанную плату в месяц: 100000\n",
    "#Введите сколько процентов уходит на ипотеку: 30\n",
    "#Введите сколько процентов уходит на жизнь: 50\n",
    "#Введите количество премий за год: 2\n",
    "\n",
    "#Вывод:\n",
    "#На ипотеку было потрачено: 360000 рублей\n",
    "#Было накоплено: 340000 рублей\n",
    "    \n",
    "salary = int(input('Введите заработную плату в месяц: '))\n",
    "percent_ipoteka = int(input('Введите сколько процентов уходит на ипотеку: '))\n",
    "percent_live = int(input('Введите сколько процентов уходит на жизнь: '))\n",
    "bonus = int(input('Введите количество премий за год: '))\n",
    "\n",
    "ipoteka = salary * (percent_ipoteka/100)\n",
    "live = salary * (percent_live/100)\n",
    "\n",
    "print('На ипотеку было потрачено: ', 12 * ipoteka ,'рублей')\n",
    "print('Было накоплено: ', 12 * (salary - ipoteka - live) + (salary * bonus / 2) ,'рублей')"
   ]
  },
  {
   "cell_type": "code",
   "execution_count": null,
   "metadata": {},
   "outputs": [],
   "source": [
    "#Дополнительные задания"
   ]
  },
  {
   "cell_type": "code",
   "execution_count": 19,
   "metadata": {},
   "outputs": [
    {
     "name": "stdout",
     "output_type": "stream",
     "text": [
      "2,Fizz,4,Buzz,Fizz,7,8,Fizz,Buzz,11,Fizz,13,14,Fizz,16,17,Fizz,19,Buzz,Fizz,22,23,Fizz,Buzz,26,Fizz,28,29,Fizz,31,32,Fizz,34,Buzz,Fizz,37,38,Fizz,Buzz,41,Fizz,43,44,Fizz,46,47,Fizz,49,Buzz,Fizz,52,53,Fizz,Buzz,56,Fizz,58,59,Fizz,61,62,Fizz,64,Buzz,Fizz,67,68,Fizz,Buzz,71,Fizz,73,74,Fizz,76,77,Fizz,79,Buzz,Fizz,82,83,Fizz,Buzz,86,Fizz,88,89,Fizz,91,92,Fizz,94,Buzz,Fizz,97,98,Fizz,Buzz,"
     ]
    }
   ],
   "source": [
    "#Задание 1\n",
    "\n",
    "n = 1\n",
    "\n",
    "while n < 100:\n",
    "    n+=1\n",
    "    if n % 3 == 0:\n",
    "        print('Fizz', end = \",\")\n",
    "    elif n % 5 == 0:\n",
    "        print('Buzz', end = \",\")\n",
    "    else:\n",
    "        print(n, end = \",\")"
   ]
  },
  {
   "cell_type": "code",
   "execution_count": 43,
   "metadata": {},
   "outputs": [
    {
     "name": "stdout",
     "output_type": "stream",
     "text": [
      "Введите сигнал: 1011101110111011101110111011101110111011\n",
      "Периодичность: 4\n"
     ]
    }
   ],
   "source": [
    "#Задание 2\n",
    "\n",
    "#Датчик принимает сигнал, состоящий из 0 и 1. \n",
    "#Известно, что сигнал имеет периодичность, не превышающей натурального числа n. \n",
    "#Напишите код, который вычисляет периодичность сигнала. \n",
    "#Считайте, что 3 < n < 1000, а общая длина сигнала значительно превышает n.\n",
    "\n",
    "#Пример сигнала с периодичностью 4 (повторяющийся элемент 1011):\n",
    "#1011101110111011101110111011101110111011\n",
    "\n",
    "signal = input('Введите сигнал: ')\n",
    "\n",
    "count = 0\n",
    "\n",
    "if signal[0] == signal[1]:\n",
    "    print('Периодичность: 1')\n",
    "    count += 1\n",
    "elif signal[:2] == signal[2:4] and count == 0:\n",
    "    print('Периодичность: 2')\n",
    "    count += 1\n",
    "elif signal[:3] == signal[3:6] and count == 0:\n",
    "    count += 1\n",
    "    print('Периодичность: 3')\n",
    "elif signal[:4] == signal[4:8] and count == 0:\n",
    "    count += 1\n",
    "    print('Периодичность: 4')\n",
    "elif signal[:5] == signal[5:10] and count == 0:\n",
    "    count += 1\n",
    "    print('Периодичность: 5')\n",
    "elif signal[:6] == signal[6:12] and count == 0:\n",
    "    count += 1\n",
    "    print('Периодичность: 6')\n",
    "elif signal[:7] == signal[7:14] and count == 0:\n",
    "    count += 1\n",
    "    print('Периодичность: 7')\n",
    "elif signal[:8] == signal[8:16] and count == 0:\n",
    "    count += 1\n",
    "    print('Периодичность: 8')\n",
    "elif signal[:9] == signal[9:18] and count == 0:\n",
    "    count += 1\n",
    "    print('Периодичность: 9')"
   ]
  },
  {
   "cell_type": "code",
   "execution_count": 51,
   "metadata": {},
   "outputs": [
    {
     "name": "stdout",
     "output_type": "stream",
     "text": [
      "Введите слово: test\n",
      "es "
     ]
    }
   ],
   "source": [
    "#Задание 3\n",
    "#Дано слово из латинских букв. \n",
    "#Напишите скрипт, который выводит на экран букву из середины слова (если число букв нечетное). \n",
    "#Если букв четное число, то на экран выводятся две буквы из середины.\n",
    "\n",
    "#Для ‘test’ - 'es’\n",
    "#Для ‘testing’ - ‘t’\n",
    "\n",
    "word = input('Введите слово: ')\n",
    "\n",
    "if len(word)%2!=0:\n",
    "    x = len(word)//2\n",
    "    print(word[x])\n",
    "else:\n",
    "    y = len(word)//2\n",
    "    print(word[y-1 : y+1], end = ' ')"
   ]
  }
 ],
 "metadata": {
  "kernelspec": {
   "display_name": "Python 3",
   "language": "python",
   "name": "python3"
  },
  "language_info": {
   "codemirror_mode": {
    "name": "ipython",
    "version": 3
   },
   "file_extension": ".py",
   "mimetype": "text/x-python",
   "name": "python",
   "nbconvert_exporter": "python",
   "pygments_lexer": "ipython3",
   "version": "3.7.1"
  }
 },
 "nbformat": 4,
 "nbformat_minor": 2
}
