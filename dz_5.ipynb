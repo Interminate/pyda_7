{
 "cells": [
  {
   "cell_type": "code",
   "execution_count": null,
   "metadata": {},
   "outputs": [],
   "source": [
    "Домашнее задание\n",
    "Переведите содержимое файла purchase_log.txt в словарь purchases вида:\n",
    "\n",
    "{'1840e0b9d4': 'Продукты', ...}\n",
    "Для каждого user_id в файле visit_log.csv добавьте третий столбец с категорией покупки (если покупка была).\n",
    "\n",
    "Запишите в файл funnel.csv визиты из файла visit_log.csv, в которых были покупки с указанием категории.\n",
    "\n",
    "Учтите условия на данные:\n",
    "\n",
    "содержимое purchase_log.txt помещается в оперативную память компьютера\n",
    "содержимое visit_log.csv - нет; используйте только построчную обработку этого файла\n",
    "​"
   ]
  },
  {
   "cell_type": "code",
   "execution_count": 172,
   "metadata": {},
   "outputs": [],
   "source": [
    "import json\n",
    "\n",
    "final_dict = {}\n",
    "\n",
    "\n",
    "with open(r'C:\\Users\\123\\Desktop\\pyda_7\\purchase_log.txt', 'r', encoding=\"utf-8\") as file:\n",
    "    for line in file:\n",
    "        line_2 = json.loads(line)\n",
    "        if 'user_id' in line_2:\n",
    "            if line_2['user_id'] == 'user_id':\n",
    "                pass\n",
    "            else:\n",
    "                final_dict[line_2['user_id']] = line_2['category']\n",
    "        else:\n",
    "            break\n",
    "\n",
    "\n",
    "file_2 = open(r'C:\\Users\\123\\Desktop\\pyda_7\\visit_log.csv', 'r', encoding=\"utf-8\")\n",
    "file_for_write = open(r'C:\\Users\\123\\Desktop\\pyda_7\\funnel.csv', 'w')\n",
    "\n",
    "for purhase in file_2:\n",
    "    line_list = purhase.strip().split(',')\n",
    "    if line_list[0] in list(final_dict.keys()):\n",
    "        file_for_write.write(','.join(line_list) + ',' + final_dict[line_list[0]] + '\\n')\n",
    "    elif line_list[0] == '' or line_list[0] == ' ':\n",
    "        break\n",
    "    else:\n",
    "        pass\n",
    "\n",
    "\n",
    "file_2.close()\n",
    "file_for_write.close()\n",
    "        "
   ]
  }
 ],
 "metadata": {
  "kernelspec": {
   "display_name": "Python 3",
   "language": "python",
   "name": "python3"
  },
  "language_info": {
   "codemirror_mode": {
    "name": "ipython",
    "version": 3
   },
   "file_extension": ".py",
   "mimetype": "text/x-python",
   "name": "python",
   "nbconvert_exporter": "python",
   "pygments_lexer": "ipython3",
   "version": "3.7.1"
  }
 },
 "nbformat": 4,
 "nbformat_minor": 2
}
