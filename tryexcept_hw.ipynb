{
 "cells": [
  {
   "cell_type": "code",
   "execution_count": 57,
   "metadata": {},
   "outputs": [
    {
     "name": "stdout",
     "output_type": "stream",
     "text": [
      "Введите первую дату: 2019-12-31\n",
      "Введите вторую дату: 2020-01-31\n"
     ]
    },
    {
     "ename": "NameError",
     "evalue": "name 'timedelta' is not defined",
     "output_type": "error",
     "traceback": [
      "\u001b[1;31m---------------------------------------------------------------------------\u001b[0m",
      "\u001b[1;31mNameError\u001b[0m                                 Traceback (most recent call last)",
      "\u001b[1;32m<ipython-input-57-b936113141f3>\u001b[0m in \u001b[0;36m<module>\u001b[1;34m\u001b[0m\n\u001b[0;32m     14\u001b[0m         \u001b[0mprint\u001b[0m\u001b[1;33m(\u001b[0m\u001b[0mstart_date\u001b[0m\u001b[1;33m)\u001b[0m\u001b[1;33m\u001b[0m\u001b[1;33m\u001b[0m\u001b[0m\n\u001b[0;32m     15\u001b[0m \u001b[1;33m\u001b[0m\u001b[0m\n\u001b[1;32m---> 16\u001b[1;33m \u001b[0mdate_range\u001b[0m\u001b[1;33m(\u001b[0m\u001b[1;33m)\u001b[0m\u001b[1;33m\u001b[0m\u001b[1;33m\u001b[0m\u001b[0m\n\u001b[0m",
      "\u001b[1;32m<ipython-input-57-b936113141f3>\u001b[0m in \u001b[0;36mdate_range\u001b[1;34m(start_date, end_date)\u001b[0m\n\u001b[0;32m      8\u001b[0m \u001b[1;33m\u001b[0m\u001b[0m\n\u001b[0;32m      9\u001b[0m     \u001b[0mstart_date\u001b[0m \u001b[1;33m=\u001b[0m \u001b[0mdt\u001b[0m\u001b[1;33m.\u001b[0m\u001b[0mstrptime\u001b[0m\u001b[1;33m(\u001b[0m\u001b[0mstart_date\u001b[0m\u001b[1;33m,\u001b[0m\u001b[1;34m'%Y-%m-%d'\u001b[0m\u001b[1;33m)\u001b[0m\u001b[1;33m\u001b[0m\u001b[1;33m\u001b[0m\u001b[0m\n\u001b[1;32m---> 10\u001b[1;33m     \u001b[0mend_date\u001b[0m \u001b[1;33m=\u001b[0m \u001b[0mdt\u001b[0m\u001b[1;33m.\u001b[0m\u001b[0mstrptime\u001b[0m\u001b[1;33m(\u001b[0m\u001b[0mend_date\u001b[0m\u001b[1;33m,\u001b[0m\u001b[1;34m'%Y-%m-%d'\u001b[0m\u001b[1;33m)\u001b[0m \u001b[1;33m-\u001b[0m \u001b[0mtimedelta\u001b[0m\u001b[1;33m(\u001b[0m\u001b[0mdays\u001b[0m\u001b[1;33m=\u001b[0m\u001b[1;36m1\u001b[0m\u001b[1;33m)\u001b[0m\u001b[1;33m\u001b[0m\u001b[1;33m\u001b[0m\u001b[0m\n\u001b[0m\u001b[0;32m     11\u001b[0m \u001b[1;33m\u001b[0m\u001b[0m\n\u001b[0;32m     12\u001b[0m     \u001b[1;32mwhile\u001b[0m \u001b[0mstart_date\u001b[0m \u001b[1;33m<\u001b[0m \u001b[0mend_date\u001b[0m\u001b[1;33m:\u001b[0m\u001b[1;33m\u001b[0m\u001b[1;33m\u001b[0m\u001b[0m\n",
      "\u001b[1;31mNameError\u001b[0m: name 'timedelta' is not defined"
     ]
    }
   ],
   "source": [
    "#Задача №1\n",
    "#Напишите функцию date_range, которая возвращает список дней между датами start_date и end_date. \n",
    "#Даты должны вводиться в формате YYYY-MM-DD.b\n",
    "\n",
    "from datetime import datetime as dt\n",
    "\n",
    "def date_range (start_date = input('Введите первую дату: '), end_date = input('Введите вторую дату: ')):\n",
    "\n",
    "    start_date = dt.strptime(start_date,'%Y-%m-%d')\n",
    "    end_date = dt.strptime(end_date,'%Y-%m-%d') - timedelta(days=1)\n",
    "\n",
    "    while start_date < end_date:\n",
    "        start_date += timedelta(days=1)\n",
    "        print(start_date)\n",
    "\n",
    "date_range()"
   ]
  },
  {
   "cell_type": "code",
   "execution_count": 58,
   "metadata": {},
   "outputs": [
    {
     "name": "stdout",
     "output_type": "stream",
     "text": [
      "Введите первую дату: 2019-12-31\n",
      "Введите вторую дату: 2020-01-31\n",
      "2020-01-01 00:00:00\n",
      "2020-01-02 00:00:00\n",
      "2020-01-03 00:00:00\n",
      "2020-01-04 00:00:00\n",
      "2020-01-05 00:00:00\n",
      "2020-01-06 00:00:00\n",
      "2020-01-07 00:00:00\n",
      "2020-01-08 00:00:00\n",
      "2020-01-09 00:00:00\n",
      "2020-01-10 00:00:00\n",
      "2020-01-11 00:00:00\n",
      "2020-01-12 00:00:00\n",
      "2020-01-13 00:00:00\n",
      "2020-01-14 00:00:00\n",
      "2020-01-15 00:00:00\n",
      "2020-01-16 00:00:00\n",
      "2020-01-17 00:00:00\n",
      "2020-01-18 00:00:00\n",
      "2020-01-19 00:00:00\n",
      "2020-01-20 00:00:00\n",
      "2020-01-21 00:00:00\n",
      "2020-01-22 00:00:00\n",
      "2020-01-23 00:00:00\n",
      "2020-01-24 00:00:00\n",
      "2020-01-25 00:00:00\n",
      "2020-01-26 00:00:00\n",
      "2020-01-27 00:00:00\n",
      "2020-01-28 00:00:00\n",
      "2020-01-29 00:00:00\n",
      "2020-01-30 00:00:00\n"
     ]
    }
   ],
   "source": [
    "#Задача №2\n",
    "#Дополните функцию из первого задания проверкой на корректность дат. \n",
    "#В случае неверного формата или если start_date > end_date должен возвращаться пустой список.\n",
    "\n",
    "from datetime import datetime as dt\n",
    "from datetime import timedelta\n",
    "\n",
    "import re\n",
    "\n",
    "def check_date (date):\n",
    "    pre_string = re.search(r'(\\d\\d\\d\\d)-(\\d\\d)-(\\d\\d)', date)\n",
    "    if re.findall(r'(\\d\\d\\d\\d)-(\\d\\d)-(\\d\\d)', date):\n",
    "        if int(pre_string.group(2)) > 12:\n",
    "            return 'Неверный формат даты - месяца'\n",
    "        elif int(pre_string.group(3)) > 31:\n",
    "            return 'Неверный формат даты - день'\n",
    "        else:\n",
    "            return date\n",
    "    else:\n",
    "        return 'Неверный формат даты'\n",
    "    \n",
    "\n",
    "\n",
    "def date_range (start_date = input('Введите первую дату: '), end_date = input('Введите вторую дату: ')):\n",
    "\n",
    "    if start_date > end_date:\n",
    "        print([])\n",
    "    elif check_date(start_date) != start_date:\n",
    "        print([])\n",
    "    elif check_date(end_date) != end_date:\n",
    "        print([])\n",
    "    else:\n",
    "        start_date = dt.strptime(start_date,'%Y-%m-%d')\n",
    "        end_date = dt.strptime(end_date,'%Y-%m-%d') - timedelta(days=1)\n",
    "    \n",
    "    \n",
    "        while start_date < end_date:\n",
    "            start_date += timedelta(days=1)\n",
    "            print(start_date)\n",
    "\n",
    "date_range()"
   ]
  },
  {
   "cell_type": "code",
   "execution_count": 66,
   "metadata": {},
   "outputs": [
    {
     "name": "stdout",
     "output_type": "stream",
     "text": [
      "2018-04-02 True\n",
      "2018-02-29 True\n",
      "2018-19-02 False\n"
     ]
    }
   ],
   "source": [
    "#Задание 3\n",
    "#Дан поток дат в формате YYYY-MM-DD, в которых встречаются некорректные значения:\n",
    "#stream = [‘2018-04-02’, ‘2018-02-29’, ‘2018-19-02’]\n",
    "#Напишите функцию, которая проверяет эти даты на корректность. Т. е. для каждой даты возвращает True (дата корректна) или False (некорректная дата).\n",
    "\n",
    "\n",
    "import re\n",
    "\n",
    "def check_date (date):\n",
    "    pre_string = re.search(r'(\\d\\d\\d\\d)-(\\d\\d)-(\\d\\d)', date)\n",
    "    if re.findall(r'(\\d\\d\\d\\d)-(\\d\\d)-(\\d\\d)', date):\n",
    "        if int(pre_string.group(2)) > 12:\n",
    "            return False\n",
    "        elif int(pre_string.group(3)) > 31:\n",
    "            return False\n",
    "        else:\n",
    "            return True\n",
    "    else:\n",
    "        return False\n",
    "    \n",
    "stream = ['2018-04-02', '2018-02-29', '2018-19-02']\n",
    "\n",
    "for date in stream:\n",
    "    print (date + ' ' + str(check_date(date)))\n",
    "        "
   ]
  },
  {
   "cell_type": "code",
   "execution_count": null,
   "metadata": {},
   "outputs": [],
   "source": [
    "Задание 4 (бонусное)\n",
    "Ваш коллега прислал код функции:\n",
    "\n",
    "DEFAULT_USER_COUNT = 3\n",
    "\n",
    "def delete_and_return_last_user(region, default_list=[‘A100’, ‘A101’, ‘A102’]):\n",
    "\"\"“\n",
    "Удаляет из списка default_list последнего пользователя\n",
    "и возвращает ID нового последнего пользователя.\n",
    "”\"\"\n",
    "element_to_delete = default_list[-1]\n",
    "default_list.remove(element_to_delete)\n",
    "\n",
    "return default_list[DEFAULT_USER_COUNT-2]\n",
    "При однократном вызове этой функции все работает корректно:\n",
    "delete_and_return_last_user(1)\n",
    "‘A101’\n",
    "\n",
    "Однако, при повторном вызове получается ошибка IndexError: list index out of range.\n",
    "\n",
    "Задание:\n",
    "\n",
    "Что значит ошибка list index out of range? - \n",
    "Ответ: В списке не существует элемента под указанным индексом.\n",
    "    \n",
    "Почему при первом запуске функция работает корректно, а при втором - нет? - \n",
    "\n",
    "Ответ: потому что во второй раз указанного элемента не существует.\n",
    "    \n",
    "При первом вызове в результате работы удалется элемент под индексом 2, а последним становится элемент с индексом 1, \n",
    "поэтому вызов по индексу срабатывает, однако, во второй раз элемент с индексом 1 удаляется\n",
    "и последним становится элемент с индексом 0, поэтому функция не может вызвать несуществующий элемент с индексом 1."
   ]
  }
 ],
 "metadata": {
  "kernelspec": {
   "display_name": "Python 3",
   "language": "python",
   "name": "python3"
  },
  "language_info": {
   "codemirror_mode": {
    "name": "ipython",
    "version": 3
   },
   "file_extension": ".py",
   "mimetype": "text/x-python",
   "name": "python",
   "nbconvert_exporter": "python",
   "pygments_lexer": "ipython3",
   "version": "3.7.1"
  }
 },
 "nbformat": 4,
 "nbformat_minor": 2
}
