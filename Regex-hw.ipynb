{
 "cells": [
  {
   "cell_type": "markdown",
   "metadata": {},
   "source": [
    "# Домашнее задание к лекции \"Регулярные выражения\"\n",
    "Для зачета необходимо выполнить 4 задания.  \n",
    "Для зачета с отличием – все."
   ]
  },
  {
   "cell_type": "markdown",
   "metadata": {},
   "source": [
    "## Задание 1"
   ]
  },
  {
   "cell_type": "markdown",
   "metadata": {},
   "source": [
    "Напишите функцию, которая принимает на вход строку и проверяет является ли она валидным транспортным номером. Если да, то функция должна возвращать отдельно номер и регион."
   ]
  },
  {
   "cell_type": "code",
   "execution_count": 65,
   "metadata": {
    "scrolled": true
   },
   "outputs": [
    {
     "name": "stdout",
     "output_type": "stream",
     "text": [
      "а123ва777rus\n"
     ]
    },
    {
     "data": {
      "text/plain": [
       "\"Номер автомобиля: ['а123ва']. Регион: ['777']\""
      ]
     },
     "execution_count": 65,
     "metadata": {},
     "output_type": "execute_result"
    }
   ],
   "source": [
    "import re\n",
    "\n",
    "def string_number (string): \n",
    "    if re.findall('[а-я]\\d{3}[а-яА-Я]{2}\\d{1,3}\\w[a-zA-Z]{3}',string):\n",
    "        number = re.findall('[а-яА-Я]\\d{3}[а-яА-Я]{2}',string)\n",
    "        region = re.findall('[а-яА-Я]{2}(\\d{1,3})',string)\n",
    "        return f'Номер автомобиля: {number}. Регион: {region}'\n",
    "    else:\n",
    "        return 'Неверный номер'\n",
    "\n",
    "\n",
    "string_number(input())"
   ]
  },
  {
   "cell_type": "markdown",
   "metadata": {},
   "source": [
    "## Задание 2"
   ]
  },
  {
   "cell_type": "markdown",
   "metadata": {},
   "source": [
    "Напишите функцию, которая проверяет e-mail адрес на валидность по стандарту RFC822: http://www.w3.org/Protocols/rfc822/. Для этого постарайтесь написать (в крайнем случае найти) самый полный шаблон для проверки e-mail адресов через регулярное выражение. Разберитесь и напишите примеры, какие ваш шаблон может не охватить."
   ]
  },
  {
   "cell_type": "code",
   "execution_count": 6,
   "metadata": {},
   "outputs": [
    {
     "name": "stdout",
     "output_type": "stream",
     "text": [
      "agnocstic$@anarxia.ad\n",
      "Неверный email\n"
     ]
    }
   ],
   "source": [
    "import re\n",
    "\n",
    "\n",
    "def email_check (email):\n",
    "    if re.findall('[\\w.]{4,}@[\\w.]{2,}\\.[a-zA-Z]{2,4}', email):\n",
    "        return f'E-mail: {email} принят'\n",
    "    else:\n",
    "        return 'Неверный email'\n",
    "    \n",
    "print(email_check(input()))"
   ]
  },
  {
   "cell_type": "markdown",
   "metadata": {},
   "source": [
    "## Задание 3\n",
    "Напишите функцию, которая будет удалять все последовательные повторы слов из заданной строки."
   ]
  },
  {
   "cell_type": "code",
   "execution_count": 17,
   "metadata": {},
   "outputs": [
    {
     "name": "stdout",
     "output_type": "stream",
     "text": [
      "Этот этот   медведь медведь хочет\n",
      "Этот медведь хочет\n"
     ]
    }
   ],
   "source": [
    "import re\n",
    "\n",
    "def del_dubl(string):\n",
    "    del_space = re.sub('\\W+', ' ', string).strip()\n",
    "    return (re.sub(r'\\b([^\\W]+)(\\s+\\1)+', r'\\1', del_space, flags=re.I))\n",
    "\n",
    "print(del_dubl(input()))"
   ]
  },
  {
   "cell_type": "markdown",
   "metadata": {},
   "source": [
    "## Задание 4\n",
    "Напишите функцию, которая будет проверять номер сотового телефона на валидность, если он валиден, то переводить его в формат:   \n",
    "+7(xxx)-xxx-xx-xx  \n",
    "Постарайтесь предусмотреть как можно больше адекватных форматов изначального ввода номера.\n",
    "Примеры правильных и неправильных форматов:\n",
    "- +7 955 555-55-55;\n",
    "- 955555555;\n",
    "- 8(955)555-55-55;\n",
    "- +7 955 555 55 55;\n",
    "- 7(955) 555-55-55;\n",
    "- +7 955+555+55+55."
   ]
  },
  {
   "cell_type": "code",
   "execution_count": 14,
   "metadata": {},
   "outputs": [
    {
     "name": "stdout",
     "output_type": "stream",
     "text": [
      "3455435345435\n",
      "Введен неверный номер\n"
     ]
    }
   ],
   "source": [
    "import re\n",
    "\n",
    "def check_mobnumber (number):\n",
    "    full_number = re.sub(r'\\D+', '', number)\n",
    "    if len(full_number) == 10:\n",
    "        return re.sub(r'(\\d{3})(\\d{3})(\\d{2})(\\d{2})', r'+7(\\1)-\\2-\\3-\\4',full_number)\n",
    "    if len(full_number) == 11:\n",
    "        return re.sub(r'\\d(\\d{3})(\\d{3})(\\d{2})(\\d{2})', r'+7(\\1)-\\2-\\3-\\4',full_number)\n",
    "    else:\n",
    "        return 'Введен неверный номер'\n",
    "        \n",
    "print(check_mobnumber(input()))"
   ]
  }
 ],
 "metadata": {
  "kernelspec": {
   "display_name": "Python 3",
   "language": "python",
   "name": "python3"
  },
  "language_info": {
   "codemirror_mode": {
    "name": "ipython",
    "version": 3
   },
   "file_extension": ".py",
   "mimetype": "text/x-python",
   "name": "python",
   "nbconvert_exporter": "python",
   "pygments_lexer": "ipython3",
   "version": "3.7.1"
  }
 },
 "nbformat": 4,
 "nbformat_minor": 2
}
