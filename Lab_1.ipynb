{
 "cells": [
  {
   "cell_type": "code",
   "execution_count": 29,
   "metadata": {},
   "outputs": [],
   "source": [
    "string_01= \"Mama, just killed a man,\\\n",
    "put a gun agains this head, pulled my trigger, now he'sdead. \\\n",
    "Mama, life had just begun, but now I've gone and thrown it all away. \\\n",
    "Mama, ooh (any way the wind blows), didn't mean to make you cry. If I'm not \\\n",
    "back again this time tomorrow carry on, carry on as if not hing really matters.\""
   ]
  },
  {
   "cell_type": "code",
   "execution_count": 35,
   "metadata": {},
   "outputs": [
    {
     "name": "stdout",
     "output_type": "stream",
     "text": [
      "Задание 1.1: 250\n",
      "Задание 1.2: 61\n",
      "Задание 1.3: man\n"
     ]
    }
   ],
   "source": [
    "# Задача 1\n",
    "\n",
    "# Пункт 1)\n",
    "\n",
    "print (f'Задание 1.1: {len(string_01.replace(\" \", \"\"))}')\n",
    "\n",
    "# Пункт 2)\n",
    "       \n",
    "string_without_space = string_01.replace(\" \", \",\")\n",
    "string_without_double = string_without_space.replace(',,', ',')\n",
    "string_approved = string_without_double.replace('.,', ',')\n",
    "list_from_string = string_approved.split(',')\n",
    "print (f'Задание 1.2: {len(list_from_string)}')\n",
    "\n",
    "# Пункт 3)\n",
    "       \n",
    "def all_words_with_letter (letter):\n",
    "    for l in list_from_string:\n",
    "        if l[0] == letter:\n",
    "            return l\n",
    "\n",
    "print (f'Задание 1.3: {all_words_with_letter (\"m\")}')\n",
    "            "
   ]
  },
  {
   "cell_type": "code",
   "execution_count": 74,
   "metadata": {},
   "outputs": [
    {
     "name": "stdout",
     "output_type": "stream",
     "text": [
      "872083\n"
     ]
    }
   ],
   "source": [
    "# Задача 2\n",
    "\n",
    "import random\n",
    "\n",
    "def random_with_three (num):\n",
    "    str1 = '0123456789'\n",
    "    ls = list(str1)\n",
    "    random.shuffle(ls)\n",
    "    str_pre = ''\n",
    "    for x in range(6):\n",
    "        str_pre += ''.join(random.choice(ls))\n",
    "    if num in str_pre:\n",
    "        return (str_pre)\n",
    "    else:\n",
    "        while num not in str_pre:\n",
    "            return random_with_three(num)\n",
    "        \n",
    "    \n",
    "print (random_with_three ('3'))"
   ]
  },
  {
   "cell_type": "code",
   "execution_count": 76,
   "metadata": {},
   "outputs": [
    {
     "name": "stdout",
     "output_type": "stream",
     "text": [
      "212\n"
     ]
    }
   ],
   "source": [
    "# Задача 3\n",
    "\n",
    "list_01 = [1, 1, 2, 3, 5, 8, 13, 21, 34, 55, 89, 144, 233, 377, 610]\n",
    "num_sum = 0\n",
    "\n",
    "for num in list_01:\n",
    "    if num > 10 and num < 100:\n",
    "        num_sum += num\n",
    "print (num_sum)"
   ]
  },
  {
   "cell_type": "code",
   "execution_count": 103,
   "metadata": {},
   "outputs": [
    {
     "name": "stdout",
     "output_type": "stream",
     "text": [
      "Задание 4.1: {'0001': ['Антонов', 'Антон', 'Игоревич', '20.08.2009', 'БСТ161'], '1102': ['Богов', 'Артем', 'Игоревич', '25.01.2010', 'БСТ162'], '0333': ['Глаголева', 'Анастасия', 'Николаевна', '11.07.2009', 'БСТ163'], '4004': ['Степанова', 'Наталья', 'Александровна', '13.02.2008', 'БСТ161'], '0045': ['Боков', 'Игорь', 'Харитонович', '02.06.2009', 'БСТ161'], '0096': ['Васильков', 'Валентин', 'Сергеевич', '20.03.2009', 'БСТ164'], '0607': ['Сиропова', 'Виолетта', 'Эдуардовна', '28.05.2010', 'БСТ162'], '0309': ['Шафутинский', 'Михаил', 'Михайлович', '03.09.2007', 'БСТ163']}\n",
      "Задание 4.2: {'0001': ['Антонов', 'Антон', 'Игоревич', '20.08.2009', 'БСТ181'], '1102': ['Богов', 'Артем', 'Игоревич', '25.01.2010', 'БСТ162'], '0333': ['Глаголева', 'Анастасия', 'Николаевна', '11.07.2009', 'БСТ163'], '4004': ['Степанова', 'Наталья', 'Александровна', '13.02.2008', 'БСТ161'], '0045': ['Боков', 'Игорь', 'Харитонович', '02.06.2009', 'БСТ161'], '0096': ['Васильков', 'Валентин', 'Сергеевич', '20.03.2009', 'БСТ164'], '0607': ['Сиропова', 'Виолетта', 'Эдуардовна', '28.05.2010', 'БСТ162'], '0309': ['Шафутинский', 'Михаил', 'Михайлович', '03.09.2007', 'БСТ163']}\n",
      "Задание 4.3: ['Глаголева', 'Анастасия', 'Николаевна']\n"
     ]
    }
   ],
   "source": [
    "# Задача 4\n",
    "\n",
    "# Пункт 1\n",
    "\n",
    "students=[\n",
    "          [\"0001\",\"Антонов\",\"Антон\",\"Игоревич\",\"20.08.2009\",\"БСТ161\"],\n",
    "          [\"1102\",\"Богов\",\"Артем\",\"Игоревич\",\"25.01.2010\",\"БСТ162\"],\n",
    "          [\"0333\",\"Глаголева\",\"Анастасия\",\"Николаевна\",\"11.07.2009\",\"БСТ163\"],\n",
    "          [\"4004\",\"Степанова\",\"Наталья\",\"Александровна\",\"13.02.2008\",\"БСТ161\"],\n",
    "          [\"0045\",\"Боков\",\"Игорь\",\"Харитонович\",\"02.06.2009\",\"БСТ161\"],\n",
    "          [\"0096\",\"Васильков\",\"Валентин\",\"Сергеевич\",\"20.03.2009\",\"БСТ164\"],\n",
    "          [\"0607\",\"Сиропова\",\"Виолетта\",\"Эдуардовна\",\"28.05.2010\",\"БСТ162\"],\n",
    "          [\"0309\",\"Шафутинский\",\"Михаил\",\"Михайлович\",\"03.09.2007\",\"БСТ163\"]\n",
    "         ]\n",
    "\n",
    "dict_with_students = {}\n",
    "\n",
    "for element in students:\n",
    "    dict_with_students[element[0]] = element[1::]\n",
    "\n",
    "print(f'Задание 4.1: {dict_with_students}')\n",
    "\n",
    "# Пункт 2\n",
    "\n",
    "def change_group_number (num_student, new_num_group):\n",
    "    dict_with_students[num_student][-1] = str(new_num_group)\n",
    "    return dict_with_students\n",
    "\n",
    "print (f'Задание 4.2: {change_group_number (\"0001\", \"БСТ181\")}')\n",
    "       \n",
    "# Пункт 3\n",
    "\n",
    "def all_students (num_group):\n",
    "    for values in dict_with_students.values():\n",
    "        if num_group in values:\n",
    "            return values[0:3]\n",
    "\n",
    "print (f'Задание 4.3: {all_students (\"БСТ163\")}')"
   ]
  },
  {
   "cell_type": "code",
   "execution_count": 121,
   "metadata": {},
   "outputs": [
    {
     "name": "stdout",
     "output_type": "stream",
     "text": [
      "Задание 5.1: 89\n",
      "Задание 5.2: \n",
      "Максимальное значение в 1 столбце = 6\n",
      "Максимальное значение в 2 столбце = 7\n",
      "Максимальное значение в 3 столбце = 7\n",
      "Максимальное значение в 4 столбце = 4\n",
      "Максимальное значение в 5 столбце = 9\n"
     ]
    }
   ],
   "source": [
    "# Задача 5\n",
    "\n",
    "# Пункт 1\n",
    "\n",
    "matrix=[[0,1,2,4,8],\n",
    "        [6,2,2,1,9],\n",
    "        [3,3,3,3,3],\n",
    "        [4,6,7,1,2],\n",
    "        [5,7,3,4,0]]\n",
    "\n",
    "sum_matrix = 0\n",
    "\n",
    "for matr in matrix:\n",
    "    for num in matr:\n",
    "        sum_matrix += num\n",
    "    \n",
    "print (f'Задание 5.1: {sum_matrix}')\n",
    "\n",
    "# Пункт 2\n",
    "column_num = 1\n",
    "\n",
    "print ('Задание 5.2: ')\n",
    "for matr in list(zip(*matrix)):\n",
    "    print (f'Максимальное значение в {column_num} столбце = {max(matr)}')\n",
    "    column_num += 1\n",
    "    "
   ]
  }
 ],
 "metadata": {
  "kernelspec": {
   "display_name": "Python 3",
   "language": "python",
   "name": "python3"
  },
  "language_info": {
   "codemirror_mode": {
    "name": "ipython",
    "version": 3
   },
   "file_extension": ".py",
   "mimetype": "text/x-python",
   "name": "python",
   "nbconvert_exporter": "python",
   "pygments_lexer": "ipython3",
   "version": "3.7.1"
  }
 },
 "nbformat": 4,
 "nbformat_minor": 2
}
